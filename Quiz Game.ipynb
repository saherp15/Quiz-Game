{
 "cells": [
  {
   "cell_type": "code",
   "execution_count": null,
   "id": "af7c91aa",
   "metadata": {},
   "outputs": [],
   "source": [
    "#Quiz Game!!!!!!!!!!!!!\n",
    "print(\"Welcome to the Quiz game!!\")\n",
    "print('''Rules of the game are:-You need to guess the correct answer if answer is correct then points are added and if incorrect the points are deducted''')\n",
    "print(\"Lets Go!!\")\n",
    "score=0\n",
    "q1=input(\"Animals that eat both plants and meat are called: \")\n",
    "if q1==\"Omnivores\" or q1==\"omnivores\":\n",
    "    print(\"correct\")\n",
    "    score=score+1\n",
    "else:\n",
    "    print(\"incorrect\")\n",
    "q2=input(\"Name the capital of Florida :\")\n",
    "if q2.lower()==\"miami\":\n",
    "    print(\"correct\")\n",
    "    score=score+1\n",
    "else:\n",
    "    print(\"incorrect\")\n",
    "q3=int(input(\"What temperature does water boil at?\"))\n",
    "if q3==100:\n",
    "    print(\"correct\")\n",
    "    score+=1\n",
    "else:\n",
    "    print(\"incorrect\")\n",
    "q4=int(input(\"How many bones are there in the human body?\"))\n",
    "if q4==206:\n",
    "    print(\"correct\")\n",
    "    score+=1\n",
    "else:\n",
    "    print(\"incorrect\")\n",
    "if score<=0:\n",
    "    print(f\"Your score is {0}\")\n",
    "else:\n",
    "    print(f\"woohoo!!Your score is {score}\")"
   ]
  }
 ],
 "metadata": {
  "kernelspec": {
   "display_name": "Python 3 (ipykernel)",
   "language": "python",
   "name": "python3"
  },
  "language_info": {
   "codemirror_mode": {
    "name": "ipython",
    "version": 3
   },
   "file_extension": ".py",
   "mimetype": "text/x-python",
   "name": "python",
   "nbconvert_exporter": "python",
   "pygments_lexer": "ipython3",
   "version": "3.9.7"
  }
 },
 "nbformat": 4,
 "nbformat_minor": 5
}
